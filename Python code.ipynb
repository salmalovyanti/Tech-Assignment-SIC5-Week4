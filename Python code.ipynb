{
 "cells": [
  {
   "cell_type": "code",
   "execution_count": 1,
   "metadata": {},
   "outputs": [],
   "source": [
    "from flask import Flask, request\n",
    "import time"
   ]
  },
  {
   "cell_type": "code",
   "execution_count": 4,
   "metadata": {},
   "outputs": [],
   "source": [
    "app = Flask(__name__)\n",
    "\n",
    "dict_list_data = {\n",
    "    \"time\": [],\n",
    "    \"value\": []\n",
    "}\n",
    "\n",
    "@app.route('/data',  methods=['GET'])\n",
    "def sensor_data():\n",
    "    \n",
    "    return dict_list_data, 200\n",
    "\n",
    "@app.route('/create',  methods=['POST'])\n",
    "def post_data():\n",
    "    data = request.json\n",
    "    data['time'] = time.time()\n",
    "    dict_list_data['time'].append(data['time'])\n",
    "    dict_list_data['value'].append(data['value'])\n",
    "    \n",
    "    return f\"time: {data['time']}, data: {data['value']}\", 300\n",
    "\n",
    "if __name__ == '_main_':\n",
    "    app.run(debug=True, port=8000, host=\"192.129.90.30\")"
   ]
  }
 ],
 "metadata": {
  "kernelspec": {
   "display_name": "Python 3",
   "language": "python",
   "name": "python3"
  },
  "language_info": {
   "codemirror_mode": {
    "name": "ipython",
    "version": 3
   },
   "file_extension": ".py",
   "mimetype": "text/x-python",
   "name": "python",
   "nbconvert_exporter": "python",
   "pygments_lexer": "ipython3",
   "version": "3.10.5"
  }
 },
 "nbformat": 4,
 "nbformat_minor": 2
}
